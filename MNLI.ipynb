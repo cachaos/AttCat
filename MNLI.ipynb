{
 "cells": [
  {
   "cell_type": "code",
   "execution_count": 2,
   "id": "d90a11d5",
   "metadata": {},
   "outputs": [],
   "source": [
    "import os\n",
    "import torch\n",
    "import argparse\n",
    "import glob\n",
    "import math\n",
    "import random\n",
    "import numpy as np\n",
    "import pandas as pd\n",
    "import tqdm as tqdm\n",
    "from scipy.special import softmax\n",
    "import scipy.stats as stats\n",
    "\n",
    "import seaborn as sns\n",
    "import matplotlib.pyplot as plt\n",
    "from IPython.display import display, HTML\n",
    "from captum.attr import visualization\n",
    "\n",
    "from transformers import AutoTokenizer, AutoModelForSequenceClassification\n",
    "from BERT_explainability.modules.BERT.BertForSequenceClassification import BertForSequenceClassification\n",
    "\n",
    "\n",
    "###mods\n",
    "import time"
   ]
  },
  {
   "cell_type": "code",
   "execution_count": 3,
   "id": "a936fe92",
   "metadata": {},
   "outputs": [],
   "source": [
    "import datasets\n",
    "from datasets import load_dataset, load_metric \n",
    "from datasets import list_datasets, list_metrics"
   ]
  },
  {
   "cell_type": "code",
   "execution_count": 4,
   "id": "e0661e55",
   "metadata": {},
   "outputs": [],
   "source": [
    "# load model   \n",
    "model = BertForSequenceClassification.from_pretrained(\"textattack/bert-base-uncased-MNLI\").to(\"cuda\")\n",
    "model.eval()\n",
    "\n",
    "# load tokenizer\n",
    "tokenizer = AutoTokenizer.from_pretrained(\"textattack/bert-base-uncased-MNLI\")"
   ]
  },
  {
   "cell_type": "code",
   "execution_count": 5,
   "id": "1aad9c5f",
   "metadata": {},
   "outputs": [
    {
     "name": "stderr",
     "output_type": "stream",
     "text": [
      "Found cached dataset glue (/home/anwbw/.cache/huggingface/datasets/glue/mnli/1.0.0/dacbe3125aa31d7f70367a07a8a9e72a5a0bfeb5fc42e75c9db75b96da6053ad)\n"
     ]
    },
    {
     "data": {
      "application/vnd.jupyter.widget-view+json": {
       "model_id": "9d7a00563c914f3f83f3d79db2877f29",
       "version_major": 2,
       "version_minor": 0
      },
      "text/plain": [
       "  0%|          | 0/5 [00:00<?, ?it/s]"
      ]
     },
     "metadata": {},
     "output_type": "display_data"
    }
   ],
   "source": [
    "dataset = \"glue\"\n",
    "task = \"mnli\" # select a task\n",
    "task_to_keys = {\n",
    "    \"cola\": (\"sentence\", None),\n",
    "    \"mnli\": (\"premise\", \"hypothesis\"),\n",
    "    \"mnli-mm\": (\"premise\", \"hypothesis\"),\n",
    "    \"mrpc\": (\"sentence1\", \"sentence2\"),\n",
    "    \"qnli\": (\"question\", \"sentence\"),\n",
    "    \"qqp\": (\"question1\", \"question2\"),\n",
    "    \"rte\": (\"sentence1\", \"sentence2\"),\n",
    "    \"sst2\": (\"sentence\", None),\n",
    "    \"stsb\": (\"sentence1\", \"sentence2\"),\n",
    "    \"wnli\": (\"sentence1\", \"sentence2\"),\n",
    "}\n",
    "special_tokens = {101,102}    \n",
    "sentence1_key, sentence2_key = task_to_keys[task]\n",
    "\n",
    "mnli = load_dataset(dataset, task)"
   ]
  },
  {
   "cell_type": "code",
   "execution_count": 6,
   "id": "09acb1a6",
   "metadata": {},
   "outputs": [],
   "source": [
    "def preprocess_function(examples):\n",
    "    # Tokenize the texts\n",
    "    args = (\n",
    "        (examples[sentence1_key],) if sentence2_key is None else (examples[sentence1_key], examples[sentence2_key])\n",
    "    )\n",
    "    result = tokenizer(*args, padding=False, max_length=tokenizer.model_max_length, truncation=True)\n",
    "    \n",
    "       # Map labels to IDs (not necessary for GLUE tasks)\n",
    "    if \"label\" in examples:\n",
    "        result[\"label\"] = examples[\"label\"]\n",
    "\n",
    "    return result"
   ]
  },
  {
   "cell_type": "code",
   "execution_count": 7,
   "id": "f1950a34",
   "metadata": {},
   "outputs": [
    {
     "name": "stderr",
     "output_type": "stream",
     "text": [
      "Loading cached processed dataset at /home/anwbw/.cache/huggingface/datasets/glue/mnli/1.0.0/dacbe3125aa31d7f70367a07a8a9e72a5a0bfeb5fc42e75c9db75b96da6053ad/cache-efd8d860162b226b.arrow\n",
      "Loading cached processed dataset at /home/anwbw/.cache/huggingface/datasets/glue/mnli/1.0.0/dacbe3125aa31d7f70367a07a8a9e72a5a0bfeb5fc42e75c9db75b96da6053ad/cache-7f04ef593885d7aa.arrow\n",
      "Loading cached processed dataset at /home/anwbw/.cache/huggingface/datasets/glue/mnli/1.0.0/dacbe3125aa31d7f70367a07a8a9e72a5a0bfeb5fc42e75c9db75b96da6053ad/cache-045fb221679771db.arrow\n",
      "Loading cached processed dataset at /home/anwbw/.cache/huggingface/datasets/glue/mnli/1.0.0/dacbe3125aa31d7f70367a07a8a9e72a5a0bfeb5fc42e75c9db75b96da6053ad/cache-a0dde9fda687970e.arrow\n"
     ]
    },
    {
     "data": {
      "application/vnd.jupyter.widget-view+json": {
       "model_id": "",
       "version_major": 2,
       "version_minor": 0
      },
      "text/plain": [
       "Map:   0%|          | 0/9847 [00:00<?, ? examples/s]"
      ]
     },
     "metadata": {},
     "output_type": "display_data"
    }
   ],
   "source": [
    "tokenized_mnli = mnli.map(preprocess_function, batched=True, remove_columns=mnli[\"train\"].column_names)"
   ]
  },
  {
   "cell_type": "code",
   "execution_count": 8,
   "id": "d8d5108b",
   "metadata": {},
   "outputs": [],
   "source": [
    "special_tokens = {101,102}    \n",
    "mask = \"[PAD]\"\n",
    "mask_id = 0   "
   ]
  },
  {
   "cell_type": "code",
   "execution_count": 10,
   "id": "607e60fd",
   "metadata": {},
   "outputs": [],
   "source": [
    "def preprocess_sample(tokenized_mnli,index):\n",
    "    input_ids = tokenized_mnli['validation_matched'][index]['input_ids']\n",
    "    text_ids = (torch.tensor([input_ids])).to(\"cuda\")\n",
    "    text_words = tokenizer.convert_ids_to_tokens(text_ids[0])\n",
    "    \n",
    "    att_mask = tokenized_mnli['validation_matched'][index]['attention_mask']\n",
    "    special_idxs = [x for x, y in list(enumerate(input_ids)) if y in special_tokens]\n",
    "    att_mask = [0 if index in special_idxs else 1 for index, item in enumerate(att_mask)]\n",
    "    att_mask = (torch.tensor([att_mask])).to(\"cuda\")\n",
    "    label = tokenized_mnli['validation_matched'][index]['label']\n",
    "    \n",
    "    return text_ids, att_mask, text_words, label"
   ]
  },
  {
   "cell_type": "code",
   "execution_count": 11,
   "id": "6aca63e0",
   "metadata": {},
   "outputs": [],
   "source": [
    "def preprocess_instance(instance):\n",
    "    input_ids = instance['input_ids']\n",
    "    text_ids = (torch.tensor([input_ids])).to(\"cuda\")\n",
    "    text_words = tokenizer.convert_ids_to_tokens(text_ids[0])\n",
    "    \n",
    "    att_mask = instance['attention_mask']\n",
    "    special_idxs = [x for x, y in list(enumerate(input_ids)) if y in special_tokens]\n",
    "    att_mask = [0 if index in special_idxs else 1 for index, item in enumerate(att_mask)]\n",
    "    att_mask = (torch.tensor([att_mask])).to(\"cuda\")\n",
    "    label = instance['label']\n",
    "    \n",
    "    return text_ids, att_mask, text_words, label"
   ]
  },
  {
   "cell_type": "code",
   "execution_count": 12,
   "id": "d8289cd7",
   "metadata": {},
   "outputs": [],
   "source": [
    "# compute rollout between attention layers\n",
    "def compute_rollout_attention(all_layer_matrices, start_layer=0):\n",
    "    \n",
    "    # adding residual consideration- code adapted from https://github.com/samiraabnar/attention_flow\n",
    "    num_tokens = all_layer_matrices[0].shape[1]\n",
    "    batch_size = all_layer_matrices[0].shape[0]\n",
    "    eye = torch.eye(num_tokens).expand(batch_size, num_tokens, num_tokens).to(all_layer_matrices[0].device)\n",
    "    all_layer_matrices = [all_layer_matrices[i] + eye for i in range(len(all_layer_matrices))]\n",
    "    matrices_aug = [all_layer_matrices[i] / all_layer_matrices[i].sum(dim=-1, keepdim=True)\n",
    "                          for i in range(len(all_layer_matrices))]\n",
    "    joint_attention = matrices_aug[start_layer]\n",
    "    for i in range(start_layer+1, len(matrices_aug)):\n",
    "        joint_attention = matrices_aug[i].bmm(joint_attention)\n",
    "        \n",
    "    return joint_attention"
   ]
  },
  {
   "cell_type": "code",
   "execution_count": 13,
   "id": "66061f0b",
   "metadata": {},
   "outputs": [],
   "source": [
    "class Generator:\n",
    "    def __init__(self, model):\n",
    "        self.model = model\n",
    "        self.model.eval()\n",
    "\n",
    "    def forward(self, input_ids, attention_mask):\n",
    "        return self.model(input_ids, attention_mask)\n",
    "\n",
    "    \n",
    "    def generate_TransCAM(self, input_ids, attention_mask,\n",
    "                          index=None, start_layer=0):\n",
    "\n",
    "        result = self.model(input_ids=input_ids, attention_mask=attention_mask, output_hidden_states=True)\n",
    "        \n",
    "        output = result[0]\n",
    "        hs = result[1]\n",
    "\n",
    "        kwargs = {\"alpha\": 1}\n",
    "\n",
    "        blocks = self.model.bert.encoder.layer\n",
    "\n",
    "        for blk_id in range(len(blocks)):\n",
    "            hs[blk_id].retain_grad()\n",
    "\n",
    "        if index == None:\n",
    "            index = np.argmax(output.cpu().data.numpy(), axis=-1)\n",
    "\n",
    "        one_hot = np.zeros((1, output.size()[-1]), dtype=np.float32)\n",
    "        one_hot[0, index] = 1\n",
    "        one_hot_vector = one_hot\n",
    "        one_hot = torch.from_numpy(one_hot).requires_grad_(True)\n",
    "        one_hot = torch.sum(one_hot.cuda() * output)\n",
    "\n",
    "        self.model.zero_grad()\n",
    "        one_hot.backward(retain_graph=True)\n",
    "\n",
    "        self.model.relprop(torch.tensor(one_hot_vector).to(input_ids.device), **kwargs)\n",
    "\n",
    "        cams = {}\n",
    "        for blk_id in range(len(blocks)):\n",
    "            hs_grads = hs[blk_id].grad\n",
    "            \n",
    "            att = blocks[blk_id].attention.self.get_attn().squeeze(0)\n",
    "            att = att.mean(dim=0)\n",
    "            att = att.mean(dim=0)\n",
    "            \n",
    "            cat = (hs_grads * hs[blk_id]).sum(dim=-1).squeeze(0)\n",
    "            cat = cat * att\n",
    "            cams[blk_id] = cat\n",
    "            \n",
    "        trans_expln = sum(cams.values())\n",
    "\n",
    "        return trans_expln\n",
    "\n",
    "    def generate_LRP(self, input_ids, attention_mask,\n",
    "                     index=None, start_layer=11):\n",
    "        output = self.model(input_ids=input_ids, attention_mask=attention_mask)[0]\n",
    "        kwargs = {\"alpha\": 1}\n",
    "\n",
    "        if index == None:\n",
    "            index = np.argmax(output.cpu().data.numpy(), axis=-1)\n",
    "\n",
    "        one_hot = np.zeros((1, output.size()[-1]), dtype=np.float32)\n",
    "        one_hot[0, index] = 1\n",
    "        one_hot_vector = one_hot\n",
    "        one_hot = torch.from_numpy(one_hot).requires_grad_(True)\n",
    "        one_hot = torch.sum(one_hot.cuda() * output)\n",
    "\n",
    "        self.model.zero_grad()\n",
    "        one_hot.backward(retain_graph=True)\n",
    "\n",
    "        self.model.relprop(torch.tensor(one_hot_vector).to(input_ids.device), **kwargs)\n",
    "\n",
    "        cams = []\n",
    "        blocks = self.model.bert.encoder.layer\n",
    "        for blk in blocks:\n",
    "            grad = blk.attention.self.get_attn_gradients()\n",
    "            cam = blk.attention.self.get_attn_cam()\n",
    "            cam = cam[0].reshape(-1, cam.shape[-1], cam.shape[-1])\n",
    "            grad = grad[0].reshape(-1, grad.shape[-1], grad.shape[-1])\n",
    "            cam = grad * cam\n",
    "            cam = cam.clamp(min=0).mean(dim=0)\n",
    "            cams.append(cam.unsqueeze(0))\n",
    "        rollout = compute_rollout_attention(cams, start_layer=start_layer)\n",
    "        rollout[:, 0, 0] = 0\n",
    "        return rollout[:, 0]\n",
    "\n",
    "\n",
    "    def generate_LRP_last_layer(self, input_ids, attention_mask,\n",
    "                     index=None):\n",
    "        output = self.model(input_ids=input_ids, attention_mask=attention_mask)[0]\n",
    "        kwargs = {\"alpha\": 1}\n",
    "        if index == None:\n",
    "            index = np.argmax(output.cpu().data.numpy(), axis=-1)\n",
    "\n",
    "        one_hot = np.zeros((1, output.size()[-1]), dtype=np.float32)\n",
    "        one_hot[0, index] = 1\n",
    "        one_hot_vector = one_hot\n",
    "        one_hot = torch.from_numpy(one_hot).requires_grad_(True)\n",
    "        one_hot = torch.sum(one_hot.cuda() * output)\n",
    "\n",
    "        self.model.zero_grad()\n",
    "        one_hot.backward(retain_graph=True)\n",
    "\n",
    "        self.model.relprop(torch.tensor(one_hot_vector).to(input_ids.device), **kwargs)\n",
    "\n",
    "        cam = self.model.bert.encoder.layer[-1].attention.self.get_attn_cam()[0]\n",
    "        cam = cam.clamp(min=0).mean(dim=0).unsqueeze(0)\n",
    "        cam[:, 0, 0] = 0\n",
    "        return cam[:, 0]\n",
    "\n",
    "    def generate_full_lrp(self, input_ids, attention_mask,\n",
    "                     index=None):\n",
    "        output = self.model(input_ids=input_ids, attention_mask=attention_mask)[0]\n",
    "        kwargs = {\"alpha\": 1}\n",
    "\n",
    "        if index == None:\n",
    "            index = np.argmax(output.cpu().data.numpy(), axis=-1)\n",
    "\n",
    "        one_hot = np.zeros((1, output.size()[-1]), dtype=np.float32)\n",
    "        one_hot[0, index] = 1\n",
    "        one_hot_vector = one_hot\n",
    "        one_hot = torch.from_numpy(one_hot).requires_grad_(True)\n",
    "        one_hot = torch.sum(one_hot.cuda() * output)\n",
    "\n",
    "        self.model.zero_grad()\n",
    "        one_hot.backward(retain_graph=True)\n",
    "\n",
    "        cam = self.model.relprop(torch.tensor(one_hot_vector).to(input_ids.device), **kwargs)\n",
    "        cam = cam.sum(dim=2)\n",
    "        cam[:, 0] = 0\n",
    "        return cam\n",
    "\n",
    "    def generate_attn_last_layer(self, input_ids, attention_mask,\n",
    "                     index=None):\n",
    "        output = self.model(input_ids=input_ids, attention_mask=attention_mask)[0]\n",
    "        cam = self.model.bert.encoder.layer[-1].attention.self.get_attn()[0]\n",
    "        cam = cam.mean(dim=0).unsqueeze(0)\n",
    "        cam[:, 0, 0] = 0\n",
    "        return cam[:, 0]\n",
    "\n",
    "    def generate_rollout(self, input_ids, attention_mask, start_layer=0, index=None):\n",
    "        self.model.zero_grad()\n",
    "        output = self.model(input_ids=input_ids, attention_mask=attention_mask)[0]\n",
    "        blocks = self.model.bert.encoder.layer\n",
    "        all_layer_attentions = []\n",
    "        for blk in blocks:\n",
    "            attn_heads = blk.attention.self.get_attn()\n",
    "            avg_heads = (attn_heads.sum(dim=1) / attn_heads.shape[1]).detach()\n",
    "            all_layer_attentions.append(avg_heads)\n",
    "        rollout = compute_rollout_attention(all_layer_attentions, start_layer=start_layer)\n",
    "        rollout[:, 0, 0] = 0\n",
    "        return rollout[:, 0]\n",
    "\n",
    "    def generate_attn_gradcam(self, input_ids, attention_mask, index=None):\n",
    "        output = self.model(input_ids=input_ids, attention_mask=attention_mask)[0]\n",
    "        kwargs = {\"alpha\": 1}\n",
    "\n",
    "        if index == None:\n",
    "            index = np.argmax(output.cpu().data.numpy(), axis=-1)\n",
    "\n",
    "        one_hot = np.zeros((1, output.size()[-1]), dtype=np.float32)\n",
    "        one_hot[0, index] = 1\n",
    "        one_hot_vector = one_hot\n",
    "        one_hot = torch.from_numpy(one_hot).requires_grad_(True)\n",
    "        one_hot = torch.sum(one_hot.cuda() * output)\n",
    "\n",
    "        self.model.zero_grad()\n",
    "        one_hot.backward(retain_graph=True)\n",
    "\n",
    "        self.model.relprop(torch.tensor(one_hot_vector).to(input_ids.device), **kwargs)\n",
    "\n",
    "        cam = self.model.bert.encoder.layer[-1].attention.self.get_attn()\n",
    "        grad = self.model.bert.encoder.layer[-1].attention.self.get_attn_gradients()\n",
    "\n",
    "        cam = cam[0].reshape(-1, cam.shape[-1], cam.shape[-1])\n",
    "        grad = grad[0].reshape(-1, grad.shape[-1], grad.shape[-1])\n",
    "        grad = grad.mean(dim=[1, 2], keepdim=True)\n",
    "        cam = (cam * grad).mean(0).clamp(min=0).unsqueeze(0)\n",
    "        cam = (cam - cam.min()) / (cam.max() - cam.min())\n",
    "        cam[:, 0, 0] = 0\n",
    "        return cam[:, 0]"
   ]
  },
  {
   "cell_type": "code",
   "execution_count": 14,
   "id": "584744a7",
   "metadata": {},
   "outputs": [],
   "source": [
    "def generate_explns(explanations, input_ids, attention_mask, start_layer=0, true_class = 1, is_true = True):\n",
    "    \n",
    "    if is_true:\n",
    "        # TransCAM\n",
    "        TransCAM_expln = explanations.generate_TransCAM(input_ids=input_ids, attention_mask=attention_mask, \n",
    "                                                    index=true_class, start_layer=start_layer)\n",
    "        # LRP\n",
    "        LRP_expln = explanations.generate_LRP(input_ids=input_ids, attention_mask=attention_mask, \n",
    "                                                    index=true_class, start_layer=start_layer)[0]\n",
    "        # PartialLRP\n",
    "        PartialLRP_expln = explanations.generate_LRP_last_layer(input_ids=input_ids, \n",
    "                                                     index=true_class, attention_mask=attention_mask)[0]\n",
    "        # FullLRP\n",
    "        # FullLRP_expln = explanations.generate_full_lrp(input_ids=input_ids, attention_mask=attention_mask, \n",
    "        #                                           index=true_class)[0]\n",
    "        # Att\n",
    "        Att_expln = explanations.generate_attn_last_layer(input_ids=input_ids, attention_mask=attention_mask, \n",
    "                                                    index=true_class)[0]\n",
    "        # Rollout\n",
    "        Rollout_expln = explanations.generate_rollout(input_ids=input_ids, attention_mask=attention_mask,      \n",
    "                                                    index=true_class, start_layer=0)[0]\n",
    "        # Att_Gradcam\n",
    "        # Att_Gradcam_expln = explanations.generate_attn_gradcam(input_ids=input_ids, attention_mask=attention_mask, \n",
    "        #                                            index=true_class)[0]    \n",
    "        \n",
    "    else:\n",
    "        if true_class == 0:\n",
    "            true_class = 1-true_class\n",
    "        else:\n",
    "            true_class = true_class - 1\n",
    "        # TransCAM\n",
    "        TransCAM_expln = explanations.generate_TransCAM(input_ids=input_ids, attention_mask=attention_mask, \n",
    "                                                    index=true_class, start_layer=start_layer)\n",
    "        # LRP\n",
    "        LRP_expln = explanations.generate_LRP(input_ids=input_ids, attention_mask=attention_mask, \n",
    "                                                    index=true_class, start_layer=start_layer)[0]\n",
    "        # PartialLRP\n",
    "        PartialLRP_expln = explanations.generate_LRP_last_layer(input_ids=input_ids, \n",
    "                                                    index=true_class, attention_mask=attention_mask)[0]\n",
    "        # FullLRP\n",
    "        # FullLRP_expln = explanations.generate_full_lrp(input_ids=input_ids, attention_mask=attention_mask, \n",
    "        #                                            index=true_class)[0]\n",
    "        # Att\n",
    "        Att_expln = explanations.generate_attn_last_layer(input_ids=input_ids, attention_mask=attention_mask, \n",
    "                                                    index=true_class)[0]\n",
    "        # Rollout\n",
    "        Rollout_expln = explanations.generate_rollout(input_ids=input_ids, attention_mask=attention_mask, \n",
    "                                                    index=true_class, start_layer=0)[0]\n",
    "        # Att_Gradcam\n",
    "        # Att_Gradcam_expln = explanations.generate_attn_gradcam(input_ids=input_ids, attention_mask=attention_mask, \n",
    "        #                                            index=true_class)[0]\n",
    "    \n",
    "    # return TransCAM_expln, LRP_expln, PartialLRP_expln, FullLRP_expln, Att_expln, Rollout_expln, Att_Gradcam_expln\n",
    "    return TransCAM_expln, Att_expln, PartialLRP_expln, Rollout_expln, LRP_expln"
   ]
  },
  {
   "cell_type": "code",
   "execution_count": 15,
   "id": "49d40fd5",
   "metadata": {},
   "outputs": [],
   "source": [
    "def predict(model, text_ids, target, att_mask=None, seg_ids=None):\n",
    "    out = model(text_ids, attention_mask=att_mask, token_type_ids=seg_ids)\n",
    "    prob = out[0]\n",
    "    pred_class = torch.argmax(prob, axis=1).cpu().detach().numpy()\n",
    "    pred_class_prob = softmax(prob.cpu().detach().numpy(), axis=1)\n",
    "    return pred_class[0], pred_class_prob[:, target][0]"
   ]
  },
  {
   "cell_type": "code",
   "execution_count": 16,
   "id": "279459b3",
   "metadata": {},
   "outputs": [],
   "source": [
    "def truncate_words(sorted_idx, text_words, text_ids, replaced_num, seg_ids=None):\n",
    "    to_be_replaced_idx = []\n",
    "    i= 0\n",
    "    while len(to_be_replaced_idx) < replaced_num and i!=len(text_words)-1:\n",
    "        current_idx = sorted_idx[i]\n",
    "        if text_words[current_idx] not in special_tokens:\n",
    "            to_be_replaced_idx.append(current_idx)\n",
    "        i += 1\n",
    "    remaining_idx = sorted(list(set(sorted_idx) - set(to_be_replaced_idx)))\n",
    "    truncated_text_ids = text_ids[0, np.array(remaining_idx)]\n",
    "    if seg_ids is not None:\n",
    "        seg_ids = seg_ids[0, np.array(remaining_idx)]\n",
    "    truncated_text_words = np.array(text_words)[remaining_idx]\n",
    "    return truncated_text_ids.unsqueeze(0), truncated_text_words, seg_ids"
   ]
  },
  {
   "cell_type": "code",
   "execution_count": null,
   "id": "341e3d12",
   "metadata": {},
   "outputs": [],
   "source": []
  },
  {
   "cell_type": "code",
   "execution_count": 17,
   "id": "c32ca46e",
   "metadata": {},
   "outputs": [],
   "source": [
    "def replace_words(sorted_idx, text_words, text_ids, replaced_num, mask, mask_id):\n",
    "    to_be_replaced_idx = []\n",
    "    i= 0\n",
    "    while len(to_be_replaced_idx) < replaced_num and i!=len(text_words)-1:\n",
    "        current_idx = sorted_idx[i]\n",
    "        if text_words[current_idx] not in special_tokens:\n",
    "            to_be_replaced_idx.append(current_idx)\n",
    "        i += 1\n",
    "    replaced_text_ids = text_ids.clone()\n",
    "    replaced_text_ids[0, to_be_replaced_idx] = mask_id\n",
    "    replaced_text_words = np.copy(text_words)\n",
    "    replaced_text_words[to_be_replaced_idx] = mask\n",
    "    return replaced_text_ids, replaced_text_words"
   ]
  },
  {
   "cell_type": "code",
   "execution_count": 18,
   "id": "2df7fc65",
   "metadata": {},
   "outputs": [],
   "source": [
    "def cal_aopc(original_probs, degradation_probs):\n",
    "    original_probs = np.array(original_probs)\n",
    "    degradation_probs = np.array(degradation_probs)\n",
    "    \n",
    "    diffs = []\n",
    "    for i in range(len(original_probs)):\n",
    "        diffs_k = []\n",
    "        for j in range(9):\n",
    "            diff = original_probs[i] - degradation_probs[i][j]\n",
    "            diffs_k.append(np.abs(diff))\n",
    "        diffs.append(diffs_k)\n",
    "\n",
    "    result = np.mean(diffs, axis=0)\n",
    "    aopc = np.mean(result)\n",
    "    \n",
    "    return result\n",
    "\n",
    "def cal_logodds(original_probs, degradation_probs):\n",
    "    original_probs = np.array(original_probs)\n",
    "    degradation_probs = np.array(degradation_probs)\n",
    "    \n",
    "    ratios = []\n",
    "    for i in range(len(original_probs)):\n",
    "        ratios_k = []\n",
    "        for j in range(9):\n",
    "            ratio = math.log(degradation_probs[i][j] / original_probs[i])\n",
    "            ratios_k.append(ratio)\n",
    "        ratios.append(ratios_k)\n",
    "\n",
    "    result = np.mean(ratios, axis=0)\n",
    "    logodds = np.mean(result)\n",
    "    \n",
    "    return result\n",
    "\n",
    "def cal_kendaltau(attribution1, attribution2,):\n",
    "\n",
    "    sorted_idx1 = np.argsort(-attribution1)\n",
    "    sorted_idx2 = np.argsort(-attribution2)\n",
    "\n",
    "    tau, p_value = stats.kendalltau(sorted_idx1, sorted_idx2)\n",
    "    \n",
    "    return tau"
   ]
  },
  {
   "cell_type": "code",
   "execution_count": 19,
   "id": "1612e77b",
   "metadata": {},
   "outputs": [],
   "source": [
    "def test(model, explanations, test_data, degrade_step = 10, seg_ids=None):\n",
    "    \n",
    "    original_probs = []\n",
    "    original_accs = [] \n",
    "    \n",
    "    degradation_probs_TransCAM = []\n",
    "    degradation_accs_TransCAM = []\n",
    "    del_probs_TransCAM = []\n",
    "    del_accs_TransCAM = []\n",
    "    \n",
    "    degradation_probs_Rawatt = []\n",
    "    degradation_accs_Rawatt = []\n",
    "    del_probs_Rawatt = []\n",
    "    del_accs_Rawatt = []\n",
    "    \n",
    "    degradation_probs_PartialLRP = []\n",
    "    degradation_accs_PartialLRP = []\n",
    "    del_probs_PartialLRP = []\n",
    "    del_accs_PartialLRP = []\n",
    "    \n",
    "    degradation_probs_Rollout = []\n",
    "    degradation_accs_Rollout = []\n",
    "    del_probs_Rollout = []\n",
    "    del_accs_Rollout = []\n",
    "    \n",
    "    degradation_probs_LRP = []\n",
    "    degradation_accs_LRP = []\n",
    "    del_probs_LRP = []\n",
    "    del_accs_LRP = []\n",
    "    \n",
    "    kendaltaus_TransCAM = []\n",
    "    kendaltaus_Rawatt = []\n",
    "    kendaltaus_PartialLRP = []\n",
    "    kendaltaus_Rollout = []\n",
    "    kendaltaus_LRP = []\n",
    "    \n",
    "    start_time = time.time()\n",
    "\n",
    "\n",
    "    for i, test_instance in enumerate(test_data):\n",
    "        \n",
    "        if i % 100 == 0:\n",
    "            print(\"testinstant\" + str(i) + \"of\" + str(len(test_data)))\n",
    "            print(\"--- %s seconds ---\" % (time.time() - start_time))\n",
    "\n",
    "\n",
    "        text_ids, att_mask, text_words, target = preprocess_instance(test_instance)\n",
    "        \n",
    "        # get truc words number\n",
    "        total_len = len(text_words)\n",
    "        if total_len< 10: \n",
    "            continue\n",
    "        granularity = np.linspace(0, 1, degrade_step)\n",
    "        trunc_words_num = [int(g) for g in np.round(granularity*total_len)]\n",
    "        trunc_words_num = list(dict.fromkeys(trunc_words_num))\n",
    "        \n",
    "        original_class, original_prob = predict(model, text_ids, target)\n",
    "        \n",
    "        # get attributions\n",
    "        attribution_TransCAM, attribution_Rawatt, attribution_PartialLRP, attribution_Rollout, attribution_LRP = \\\n",
    "        generate_explns(explanations, text_ids, att_mask, start_layer=0, true_class = target, is_true = True) \n",
    "        \n",
    "        attribution_TransCAM_F, attribution_Rawatt_F, attribution_PartialLRP_F, attribution_Rollout_F, attribution_LRP_F = \\\n",
    "        generate_explns(explanations, text_ids, att_mask, start_layer=0, true_class = target, is_true = False) \n",
    "        \n",
    "        # conver to cpu numpy\n",
    "        attribution_TransCAM = attribution_TransCAM.cpu().detach().numpy()\n",
    "        attribution_Rawatt = attribution_Rawatt.cpu().detach().numpy()\n",
    "        attribution_PartialLRP = attribution_PartialLRP.cpu().detach().numpy()\n",
    "        attribution_Rollout = attribution_Rollout.cpu().detach().numpy()\n",
    "        attribution_LRP = attribution_LRP.cpu().detach().numpy()\n",
    "        \n",
    "        # conver to cpu numpy\n",
    "        attribution_TransCAM_F = attribution_TransCAM_F.cpu().detach().numpy()\n",
    "        attribution_Rawatt_F = attribution_Rawatt_F.cpu().detach().numpy()\n",
    "        attribution_PartialLRP_F = attribution_PartialLRP_F.cpu().detach().numpy()\n",
    "        attribution_Rollout_F = attribution_Rollout_F.cpu().detach().numpy()\n",
    "        attribution_LRP_F = attribution_LRP_F.cpu().detach().numpy()\n",
    "        \n",
    "        # get sorted_idx\n",
    "        sorted_idx_TransCAM = np.argsort(-attribution_TransCAM)\n",
    "        sorted_idx_Rawatt = np.argsort(-attribution_Rawatt)\n",
    "        sorted_idx_PartialLRP = np.argsort(-attribution_PartialLRP)\n",
    "        sorted_idx_Rollout = np.argsort(-attribution_Rollout)\n",
    "        sorted_idx_LRP = np.argsort(-attribution_LRP)\n",
    "        \n",
    "        instance_degradation_probs_TransCAM = []\n",
    "        instance_degradation_accs_TransCAM = []\n",
    "        instance_replace_probs_TransCAM = []\n",
    "        instance_replace_accs_TransCAM = []\n",
    "        \n",
    "        instance_degradation_probs_Rawatt = []\n",
    "        instance_degradation_accs_Rawatt = []\n",
    "        instance_replace_probs_Rawatt = []\n",
    "        instance_replace_accs_Rawatt = []\n",
    "        \n",
    "        instance_degradation_probs_PartialLRP = []\n",
    "        instance_degradation_accs_PartialLRP = []\n",
    "        instance_replace_probs_PartialLRP = []\n",
    "        instance_replace_accs_PartialLRP = []\n",
    "        \n",
    "        instance_degradation_probs_Rollout = []\n",
    "        instance_degradation_accs_Rollout = []\n",
    "        instance_replace_probs_Rollout = []\n",
    "        instance_replace_accs_Rollout = []\n",
    "        \n",
    "        instance_degradation_probs_LRP = []\n",
    "        instance_degradation_accs_LRP = []\n",
    "        instance_replace_probs_LRP = []\n",
    "        instance_replace_accs_LRP = []\n",
    "\n",
    "        for num in trunc_words_num[1:]: #exclude 0\n",
    "            \n",
    "            # TransCAM\n",
    "            truncated_text_ids_TransCAM, _, _ = truncate_words(sorted_idx_TransCAM, text_words, text_ids, \n",
    "                                                                                        num, seg_ids=seg_ids)\n",
    "            replaced_text_ids_TransCAM, _ = replace_words(sorted_idx_TransCAM, text_words, text_ids, num, mask, mask_id)\n",
    "           \n",
    "            trunc_class_TransCAM, trunc_prob_TransCAM = predict(model, truncated_text_ids_TransCAM, target, seg_ids=seg_ids)\n",
    "            rep_class_TransCAM, rep_prob_TransCAM = predict(model, replaced_text_ids_TransCAM, target, seg_ids=seg_ids)\n",
    "\n",
    "            instance_degradation_probs_TransCAM.append(trunc_prob_TransCAM)\n",
    "            instance_degradation_accs_TransCAM.append(trunc_class_TransCAM==target)\n",
    "            \n",
    "            instance_replace_probs_TransCAM.append(rep_prob_TransCAM)\n",
    "            instance_replace_accs_TransCAM.append(rep_class_TransCAM==target)\n",
    "            \n",
    "            # Rawatt\n",
    "            truncated_text_ids_Rawatt, _, _ = truncate_words(sorted_idx_Rawatt, text_words, text_ids, \n",
    "                                                                                       num, seg_ids=seg_ids)\n",
    "            replaced_text_ids_Rawatt, _ = replace_words(sorted_idx_Rawatt, text_words, text_ids, num, mask, mask_id)\n",
    "            \n",
    "            \n",
    "            trunc_class_Rawatt, trunc_prob_Rawatt = predict(model, truncated_text_ids_Rawatt, target, seg_ids=seg_ids)\n",
    "            rep_class_Rawatt, rep_prob_Rawatt = predict(model, replaced_text_ids_Rawatt, target, seg_ids=seg_ids)\n",
    "\n",
    "            instance_degradation_probs_Rawatt.append(trunc_prob_Rawatt)\n",
    "            instance_degradation_accs_Rawatt.append(trunc_class_Rawatt==target)\n",
    "            \n",
    "            instance_replace_probs_Rawatt.append(rep_prob_Rawatt)\n",
    "            instance_replace_accs_Rawatt.append(rep_class_Rawatt==target)\n",
    "            \n",
    "            # PartialLRP\n",
    "            truncated_text_ids_PartialLRP, _, _ = truncate_words(sorted_idx_PartialLRP, text_words, text_ids, \n",
    "                                                                                       num, seg_ids=seg_ids)\n",
    "            replaced_text_ids_PartialLRP, _ = replace_words(sorted_idx_PartialLRP, text_words, text_ids, num, mask, mask_id)\n",
    "            \n",
    "            trunc_class_PartialLRP, trunc_prob_PartialLRP = predict(model, truncated_text_ids_PartialLRP, target, seg_ids=seg_ids)\n",
    "            rep_class_PartialLRP, rep_prob_PartialLRP = predict(model, replaced_text_ids_PartialLRP, target, seg_ids=seg_ids)\n",
    "            \n",
    "            instance_degradation_probs_PartialLRP.append(trunc_prob_PartialLRP)\n",
    "            instance_degradation_accs_PartialLRP.append(trunc_class_PartialLRP==target)\n",
    "            \n",
    "            instance_replace_probs_PartialLRP.append(rep_prob_PartialLRP)\n",
    "            instance_replace_accs_PartialLRP.append(rep_class_PartialLRP==target)\n",
    "            \n",
    "            # Rollout\n",
    "            truncated_text_ids_Rollout, _, _ = truncate_words(sorted_idx_Rollout, text_words, text_ids, \n",
    "                                                                                       num, seg_ids=seg_ids)\n",
    "            replaced_text_ids_Rollout, _ = replace_words(sorted_idx_Rollout, text_words, text_ids, num, mask, mask_id)\n",
    "            \n",
    "            trunc_class_Rollout, trunc_prob_Rollout = predict(model, truncated_text_ids_Rollout, target, seg_ids=seg_ids)\n",
    "            rep_class_Rollout, rep_prob_Rollout = predict(model, replaced_text_ids_Rollout, target, seg_ids=seg_ids)\n",
    "            \n",
    "            instance_degradation_probs_Rollout.append(trunc_prob_Rollout)\n",
    "            instance_degradation_accs_Rollout.append(trunc_class_Rollout==target)\n",
    "            \n",
    "            instance_replace_probs_Rollout.append(rep_prob_Rollout)\n",
    "            instance_replace_accs_Rollout.append(rep_class_Rollout==target)\n",
    "            \n",
    "            # LRP\n",
    "            truncated_text_ids_LRP, _, _ = truncate_words(sorted_idx_LRP, text_words, text_ids, \n",
    "                                                                                       num, seg_ids=seg_ids)\n",
    "            replaced_text_ids_LRP, _ = replace_words(sorted_idx_LRP, text_words, text_ids, num, mask, mask_id)\n",
    "                \n",
    "            trunc_class_LRP, trunc_prob_LRP = predict(model, truncated_text_ids_LRP, target, seg_ids=seg_ids)\n",
    "            rep_class_LRP, rep_prob_LRP = predict(model, replaced_text_ids_LRP, target, seg_ids=seg_ids)\n",
    "\n",
    "            instance_degradation_probs_LRP.append(trunc_prob_LRP)\n",
    "            instance_degradation_accs_LRP.append(trunc_class_LRP==target)\n",
    "            \n",
    "            instance_replace_probs_LRP.append(rep_prob_LRP)\n",
    "            instance_replace_accs_LRP.append(rep_class_LRP==target)\n",
    "\n",
    "        original_probs.append(original_prob)\n",
    "        original_accs.append(original_class==target)\n",
    "        \n",
    "        degradation_probs_TransCAM.append(instance_degradation_probs_TransCAM)\n",
    "        degradation_accs_TransCAM.append(instance_degradation_accs_TransCAM)\n",
    "        del_probs_TransCAM.append(instance_replace_probs_TransCAM)\n",
    "        del_accs_TransCAM.append(instance_replace_accs_TransCAM)\n",
    "        \n",
    "        \n",
    "        degradation_probs_Rawatt.append(instance_degradation_probs_Rawatt)\n",
    "        degradation_accs_Rawatt.append(instance_degradation_accs_Rawatt)\n",
    "        del_probs_Rawatt.append(instance_replace_probs_Rawatt)\n",
    "        del_accs_Rawatt.append(instance_replace_accs_Rawatt)\n",
    "        \n",
    "        degradation_probs_PartialLRP.append(instance_degradation_probs_PartialLRP)\n",
    "        degradation_accs_PartialLRP.append(instance_degradation_accs_PartialLRP)\n",
    "        del_probs_PartialLRP.append(instance_replace_probs_PartialLRP)\n",
    "        del_accs_PartialLRP.append(instance_replace_accs_PartialLRP)\n",
    "        \n",
    "        degradation_probs_Rollout.append(instance_degradation_probs_Rollout)\n",
    "        degradation_accs_Rollout.append(instance_degradation_accs_Rollout)\n",
    "        del_probs_Rollout.append(instance_replace_probs_Rollout)\n",
    "        del_accs_Rollout.append(instance_replace_accs_Rollout)\n",
    "        \n",
    "        degradation_probs_LRP.append(instance_degradation_probs_LRP)\n",
    "        degradation_accs_LRP.append(instance_degradation_accs_LRP)\n",
    "        del_probs_LRP.append(instance_replace_probs_LRP)\n",
    "        del_accs_LRP.append(instance_replace_accs_LRP)\n",
    "        \n",
    "        \n",
    "        kendaltau_TransCAM = cal_kendaltau(attribution_TransCAM,attribution_TransCAM_F)\n",
    "        kendaltaus_TransCAM.append(kendaltau_TransCAM)      \n",
    "        \n",
    "        kendaltau_Rawatt = cal_kendaltau(attribution_Rawatt,attribution_Rawatt_F)\n",
    "        kendaltaus_Rawatt.append(kendaltau_Rawatt)      \n",
    "        \n",
    "        kendaltau_PartialLRP = cal_kendaltau(attribution_PartialLRP,attribution_PartialLRP_F)\n",
    "        kendaltaus_PartialLRP.append(kendaltau_PartialLRP)      \n",
    "        \n",
    "        kendaltau_Rollout = cal_kendaltau(attribution_Rollout,attribution_Rollout_F)\n",
    "        kendaltaus_Rollout.append(kendaltau_Rollout)      \n",
    "        \n",
    "        kendaltau_LRP = cal_kendaltau(attribution_LRP,attribution_LRP_F)\n",
    "        kendaltaus_LRP.append(kendaltau_LRP)      \n",
    "    \n",
    "    # get aopc score\n",
    "    aopc_TransCAM = cal_aopc(original_probs,degradation_probs_TransCAM)\n",
    "    aopc_Rawatt = cal_aopc(original_probs,degradation_probs_Rawatt)\n",
    "    aopc_PartialLRP = cal_aopc(original_probs,degradation_probs_PartialLRP)\n",
    "    aopc_Rollout = cal_aopc(original_probs,degradation_probs_Rollout)\n",
    "    aopc_LRP = cal_aopc(original_probs,degradation_probs_LRP)\n",
    "    \n",
    "    aopc_TransCAM_del = cal_aopc(original_probs,del_probs_TransCAM)\n",
    "    aopc_Rawatt_del = cal_aopc(original_probs,del_probs_Rawatt)\n",
    "    aopc_PartialLRP_del = cal_aopc(original_probs,del_probs_PartialLRP)\n",
    "    aopc_Rollout_del = cal_aopc(original_probs,del_probs_Rollout)\n",
    "    aopc_LRP_del = cal_aopc(original_probs,del_probs_LRP)\n",
    "        \n",
    "        \n",
    "    logodds_TransCAM = cal_logodds(original_probs,degradation_probs_TransCAM)\n",
    "    logodds_Rawatt = cal_logodds(original_probs,degradation_probs_Rawatt)\n",
    "    logodds_PartialLRP = cal_logodds(original_probs,degradation_probs_PartialLRP)\n",
    "    logodds_Rollout = cal_logodds(original_probs,degradation_probs_Rollout)\n",
    "    logodds_LRP = cal_logodds(original_probs,degradation_probs_LRP)\n",
    "    \n",
    "    logodds_TransCAM_del = cal_logodds(original_probs,del_probs_TransCAM)\n",
    "    logodds_Rawatt_del = cal_logodds(original_probs,del_probs_Rawatt)\n",
    "    logodds_PartialLRP_del = cal_logodds(original_probs,del_probs_PartialLRP)\n",
    "    logodds_Rollout_del = cal_logodds(original_probs,del_probs_Rollout)\n",
    "    logodds_LRP_del = cal_logodds(original_probs,del_probs_LRP)\n",
    "        \n",
    "            \n",
    "    # get kendaltau score    \n",
    "    k_TransCAM = np.mean(kendaltaus_TransCAM)\n",
    "    k_Rawatt = np.mean(kendaltaus_Rawatt)\n",
    "    k_PartialLRP = np.mean(kendaltaus_PartialLRP)\n",
    "    k_Rollout = np.mean(kendaltaus_Rollout)\n",
    "    k_LRP = np.mean(kendaltaus_LRP)\n",
    "        \n",
    "    return (aopc_TransCAM, aopc_Rawatt, aopc_PartialLRP, aopc_Rollout, aopc_LRP,\n",
    "            aopc_TransCAM_del, aopc_Rawatt_del, aopc_PartialLRP_del, aopc_Rollout_del, aopc_LRP_del,\n",
    "            k_TransCAM, k_Rawatt, k_PartialLRP, k_Rollout, k_LRP,\n",
    "            logodds_TransCAM, logodds_Rawatt, logodds_PartialLRP, logodds_Rollout, logodds_LRP,\n",
    "            logodds_TransCAM_del, logodds_Rawatt_del, logodds_PartialLRP_del, logodds_Rollout_del, logodds_LRP_del)"
   ]
  },
  {
   "cell_type": "code",
   "execution_count": 20,
   "id": "36105a05",
   "metadata": {},
   "outputs": [],
   "source": [
    "# initialize the explanations generator\n",
    "explanations = Generator(model)"
   ]
  },
  {
   "cell_type": "code",
   "execution_count": 21,
   "id": "12ceb15b",
   "metadata": {},
   "outputs": [],
   "source": [
    "# test_num = 500\n",
    "to_test = np.array(tokenized_mnli['validation_matched'])\n",
    "# to_test_idx = np.random.choice(len(tokenized_mnli['validation_matched']), test_num, replace=False)\n",
    "# to_test = to_test[to_test_idx]\n",
    "# len(to_test)"
   ]
  },
  {
   "cell_type": "code",
   "execution_count": 20,
   "id": "c01fed0a",
   "metadata": {
    "scrolled": true
   },
   "outputs": [
    {
     "name": "stdout",
     "output_type": "stream",
     "text": [
      "testinstant0of9815\n",
      "--- 0.00012755393981933594 seconds ---\n"
     ]
    },
    {
     "name": "stderr",
     "output_type": "stream",
     "text": [
      "/home/anwbw/.local/lib/python3.9/site-packages/transformers/modeling_utils.py:866: FutureWarning: The `device` argument is deprecated and will be removed in v5 of Transformers.\n",
      "  warnings.warn(\n"
     ]
    },
    {
     "name": "stdout",
     "output_type": "stream",
     "text": [
      "testinstant100of9815\n",
      "--- 205.59295988082886 seconds ---\n",
      "testinstant200of9815\n",
      "--- 412.7099711894989 seconds ---\n",
      "testinstant300of9815\n",
      "--- 619.3251144886017 seconds ---\n",
      "testinstant400of9815\n",
      "--- 826.6728484630585 seconds ---\n",
      "testinstant500of9815\n",
      "--- 1033.142166852951 seconds ---\n",
      "testinstant600of9815\n",
      "--- 1235.5870099067688 seconds ---\n",
      "testinstant700of9815\n",
      "--- 1440.3259510993958 seconds ---\n",
      "testinstant800of9815\n",
      "--- 1645.2948017120361 seconds ---\n",
      "testinstant900of9815\n",
      "--- 1851.2299628257751 seconds ---\n",
      "testinstant1000of9815\n",
      "--- 2056.7193212509155 seconds ---\n",
      "testinstant1100of9815\n",
      "--- 2263.3295233249664 seconds ---\n",
      "testinstant1200of9815\n",
      "--- 2470.192731142044 seconds ---\n",
      "testinstant1300of9815\n",
      "--- 2677.065862417221 seconds ---\n",
      "testinstant1400of9815\n",
      "--- 2883.303303003311 seconds ---\n",
      "testinstant1500of9815\n",
      "--- 3089.3530995845795 seconds ---\n",
      "testinstant1600of9815\n",
      "--- 3295.8666982650757 seconds ---\n",
      "testinstant1700of9815\n",
      "--- 3503.7939126491547 seconds ---\n",
      "testinstant1800of9815\n",
      "--- 3710.637917995453 seconds ---\n",
      "testinstant1900of9815\n",
      "--- 3914.6989662647247 seconds ---\n",
      "testinstant2000of9815\n",
      "--- 4118.299175977707 seconds ---\n",
      "testinstant2100of9815\n",
      "--- 4325.96052980423 seconds ---\n",
      "testinstant2200of9815\n",
      "--- 4532.9545974731445 seconds ---\n",
      "testinstant2300of9815\n",
      "--- 4739.167260885239 seconds ---\n",
      "testinstant2400of9815\n",
      "--- 4943.211165904999 seconds ---\n",
      "testinstant2500of9815\n",
      "--- 5150.353721141815 seconds ---\n",
      "testinstant2600of9815\n",
      "--- 5355.615594148636 seconds ---\n",
      "testinstant2700of9815\n",
      "--- 5563.177404165268 seconds ---\n",
      "testinstant2800of9815\n",
      "--- 5770.61913228035 seconds ---\n",
      "testinstant2900of9815\n",
      "--- 5978.270445108414 seconds ---\n",
      "testinstant3000of9815\n",
      "--- 6184.381661653519 seconds ---\n",
      "testinstant3100of9815\n",
      "--- 6391.661547899246 seconds ---\n",
      "testinstant3200of9815\n",
      "--- 6595.691033124924 seconds ---\n",
      "testinstant3300of9815\n",
      "--- 6802.494043111801 seconds ---\n",
      "testinstant3400of9815\n",
      "--- 7009.767153978348 seconds ---\n",
      "testinstant3500of9815\n",
      "--- 7216.930206537247 seconds ---\n",
      "testinstant3600of9815\n",
      "--- 7423.1006145477295 seconds ---\n",
      "testinstant3700of9815\n",
      "--- 7628.628689050674 seconds ---\n",
      "testinstant3800of9815\n",
      "--- 7837.206787586212 seconds ---\n",
      "testinstant3900of9815\n",
      "--- 8040.549819231033 seconds ---\n",
      "testinstant4000of9815\n",
      "--- 8243.787065505981 seconds ---\n",
      "testinstant4100of9815\n",
      "--- 8449.062938928604 seconds ---\n",
      "testinstant4200of9815\n",
      "--- 8655.581423282623 seconds ---\n",
      "testinstant4300of9815\n",
      "--- 8863.850039243698 seconds ---\n",
      "testinstant4400of9815\n",
      "--- 9068.8775100708 seconds ---\n",
      "testinstant4500of9815\n",
      "--- 9275.594944477081 seconds ---\n",
      "testinstant4600of9815\n",
      "--- 9479.638180732727 seconds ---\n",
      "testinstant4700of9815\n",
      "--- 9686.023262023926 seconds ---\n",
      "testinstant4800of9815\n",
      "--- 9893.772366762161 seconds ---\n",
      "testinstant4900of9815\n",
      "--- 10098.098748922348 seconds ---\n",
      "testinstant5000of9815\n",
      "--- 10304.181880235672 seconds ---\n",
      "testinstant5100of9815\n",
      "--- 10509.642175912857 seconds ---\n",
      "testinstant5200of9815\n",
      "--- 10717.017421007156 seconds ---\n",
      "testinstant5300of9815\n",
      "--- 10925.783260345459 seconds ---\n",
      "testinstant5400of9815\n",
      "--- 11133.42331957817 seconds ---\n",
      "testinstant5500of9815\n",
      "--- 11339.253624200821 seconds ---\n",
      "testinstant5600of9815\n",
      "--- 11544.632113933563 seconds ---\n",
      "testinstant5700of9815\n",
      "--- 11750.543220281601 seconds ---\n",
      "testinstant5800of9815\n",
      "--- 11957.41436958313 seconds ---\n",
      "testinstant5900of9815\n",
      "--- 12157.828150510788 seconds ---\n",
      "testinstant6000of9815\n",
      "--- 12364.226664066315 seconds ---\n",
      "testinstant6100of9815\n",
      "--- 12570.757683038712 seconds ---\n",
      "testinstant6200of9815\n",
      "--- 12776.201819181442 seconds ---\n",
      "testinstant6300of9815\n",
      "--- 12982.322002410889 seconds ---\n",
      "testinstant6400of9815\n",
      "--- 13187.770762443542 seconds ---\n",
      "testinstant6500of9815\n",
      "--- 13392.195399999619 seconds ---\n",
      "testinstant6600of9815\n",
      "--- 13597.958344221115 seconds ---\n",
      "testinstant6700of9815\n",
      "--- 13804.379244089127 seconds ---\n",
      "testinstant6800of9815\n",
      "--- 14011.720052719116 seconds ---\n",
      "testinstant6900of9815\n",
      "--- 14217.92455816269 seconds ---\n",
      "testinstant7000of9815\n",
      "--- 14422.143565416336 seconds ---\n",
      "testinstant7100of9815\n",
      "--- 14629.806063652039 seconds ---\n",
      "testinstant7200of9815\n",
      "--- 14836.039298057556 seconds ---\n",
      "testinstant7300of9815\n",
      "--- 15041.873595237732 seconds ---\n",
      "testinstant7400of9815\n",
      "--- 15248.291296720505 seconds ---\n",
      "testinstant7500of9815\n",
      "--- 15453.19818353653 seconds ---\n",
      "testinstant7600of9815\n",
      "--- 15661.024542570114 seconds ---\n",
      "testinstant7700of9815\n",
      "--- 15867.750355005264 seconds ---\n",
      "testinstant7800of9815\n",
      "--- 16074.146100282669 seconds ---\n",
      "testinstant7900of9815\n",
      "--- 16281.688127994537 seconds ---\n",
      "testinstant8000of9815\n",
      "--- 16487.277196645737 seconds ---\n",
      "testinstant8100of9815\n",
      "--- 16694.78430700302 seconds ---\n",
      "testinstant8200of9815\n",
      "--- 16897.091876745224 seconds ---\n",
      "testinstant8300of9815\n",
      "--- 17105.646317005157 seconds ---\n",
      "testinstant8400of9815\n",
      "--- 17311.313633203506 seconds ---\n",
      "testinstant8500of9815\n",
      "--- 17516.987802267075 seconds ---\n",
      "testinstant8600of9815\n",
      "--- 17723.158226966858 seconds ---\n",
      "testinstant8700of9815\n",
      "--- 17924.075013399124 seconds ---\n",
      "testinstant8800of9815\n",
      "--- 18132.454347848892 seconds ---\n",
      "testinstant8900of9815\n",
      "--- 18339.18243408203 seconds ---\n",
      "testinstant9000of9815\n",
      "--- 18545.795617103577 seconds ---\n",
      "testinstant9100of9815\n",
      "--- 18750.571778297424 seconds ---\n",
      "testinstant9200of9815\n",
      "--- 18953.422172784805 seconds ---\n",
      "testinstant9300of9815\n",
      "--- 19160.33326649666 seconds ---\n",
      "testinstant9400of9815\n",
      "--- 19364.42879343033 seconds ---\n",
      "testinstant9500of9815\n",
      "--- 19570.590455532074 seconds ---\n",
      "testinstant9600of9815\n",
      "--- 19778.748870372772 seconds ---\n",
      "testinstant9700of9815\n",
      "--- 19984.710588932037 seconds ---\n",
      "testinstant9800of9815\n",
      "--- 20192.106184244156 seconds ---\n"
     ]
    }
   ],
   "source": [
    "(aopc_TransCAM, aopc_Rawatt, aopc_PartialLRP, aopc_Rollout, aopc_LRP,\n",
    " aopc_TransCAM_del, aopc_Rawatt_del, aopc_PartialLRP_del, aopc_Rollout_del, aopc_LRP_del,\n",
    " k_TransCAM, k_Rawatt, k_PartialLRP, k_Rollout, k_LRP,\n",
    " logodds_TransCAM, logodds_Rawatt, logodds_PartialLRP, logodds_Rollout, logodds_LRP,\n",
    " logodds_TransCAM_del, logodds_Rawatt_del, logodds_PartialLRP_del, logodds_Rollout_del, logodds_LRP_del) = test(model, explanations, to_test, degrade_step = 10, seg_ids=None)"
   ]
  },
  {
   "cell_type": "code",
   "execution_count": 21,
   "id": "9a5d8bac",
   "metadata": {},
   "outputs": [
    {
     "name": "stdout",
     "output_type": "stream",
     "text": [
      "======================================== GPU Details ========================================\n",
      "huggingface/tokenizers: The current process just got forked, after parallelism has already been used. Disabling parallelism to avoid deadlocks...\n",
      "To disable this warning, you can either:\n",
      "\t- Avoid using `tokenizers` before the fork if possible\n",
      "\t- Explicitly set the environment variable TOKENIZERS_PARALLELISM=(true | false)\n",
      "  id  name          load    free memory    used memory    total memory    temperature    uuid\n",
      "----  ------------  ------  -------------  -------------  --------------  -------------  ----------------------------------------\n",
      "   0  Quadro P4000  0.0%    5076.0MB       3015.0MB       8192.0MB        63.0 °C        GPU-d54fc58e-a862-524b-2c49-5328a9082994\n"
     ]
    }
   ],
   "source": [
    "# GPU information\n",
    "import GPUtil\n",
    "from tabulate import tabulate\n",
    "print(\"=\"*40, \"GPU Details\", \"=\"*40)\n",
    "gpus = GPUtil.getGPUs()\n",
    "list_gpus = []\n",
    "for gpu in gpus:\n",
    "    # get the GPU id\n",
    "    gpu_id = gpu.id\n",
    "    # name of GPU\n",
    "    gpu_name = gpu.name\n",
    "    # get % percentage of GPU usage of that GPU\n",
    "    gpu_load = f\"{gpu.load*100}%\"\n",
    "    # get free memory in MB format\n",
    "    gpu_free_memory = f\"{gpu.memoryFree}MB\"\n",
    "    # get used memory\n",
    "    gpu_used_memory = f\"{gpu.memoryUsed}MB\"\n",
    "    # get total memory\n",
    "    gpu_total_memory = f\"{gpu.memoryTotal}MB\"\n",
    "    # get GPU temperature in Celsius\n",
    "    gpu_temperature = f\"{gpu.temperature} °C\"\n",
    "    gpu_uuid = gpu.uuid\n",
    "    list_gpus.append((\n",
    "        gpu_id, gpu_name, gpu_load, gpu_free_memory, gpu_used_memory,\n",
    "        gpu_total_memory, gpu_temperature, gpu_uuid\n",
    "    ))\n",
    "\n",
    "print(tabulate(list_gpus, headers=(\"id\", \"name\", \"load\", \"free memory\", \"used memory\", \"total memory\",\n",
    "                                   \"temperature\", \"uuid\")))"
   ]
  },
  {
   "cell_type": "code",
   "execution_count": 22,
   "id": "b1f7c85b",
   "metadata": {
    "scrolled": true
   },
   "outputs": [
    {
     "name": "stdout",
     "output_type": "stream",
     "text": [
      "[0.07041364 0.09514804 0.11449922 0.13922782 0.19053014 0.22611356\n",
      " 0.23613663 0.21787499 0.21434757] [0.07201976 0.09819813 0.11862783 0.13475929 0.15148585 0.1685298\n",
      " 0.19176897 0.19936499 0.17595547] [0.07336863 0.09926315 0.11772716 0.1339982  0.14930186 0.16840385\n",
      " 0.19055225 0.20008202 0.17595547] [0.07793751 0.10707336 0.13032736 0.15128505 0.17019908 0.1872023\n",
      " 0.19840801 0.19804548 0.17595547] [0.07518471 0.10013779 0.12039931 0.13766073 0.153152   0.17192799\n",
      " 0.19235812 0.19933142 0.17595547]\n",
      "[0.07022261 0.11682474 0.16848212 0.18512833 0.18509762 0.18203671\n",
      " 0.17970543 0.17843616 0.17234549] [0.07645877 0.13694184 0.1772285  0.19006771 0.19312674 0.19147526\n",
      " 0.19202717 0.20001906 0.25686264] [0.07970037 0.13864279 0.17822863 0.19099668 0.19364734 0.19206461\n",
      " 0.19197358 0.19985385 0.25686264] [0.07029907 0.13487266 0.18099764 0.1923786  0.19395302 0.19403093\n",
      " 0.1935048  0.20019542 0.25686264] [0.08126726 0.13906851 0.1771098  0.19046718 0.1922539  0.19222847\n",
      " 0.19270055 0.20059115 0.25686264]\n",
      "0.01943793761953909 1.0 0.9302643115935654 1.0 0.3244236398006001\n",
      "[ 0.03034344  0.07783949  0.12880358  0.15698717  0.20850011  0.3009351\n",
      "  0.31449189  0.14526571 -0.43963289] [0.09662212 0.16128528 0.21743429 0.25945161 0.28948268 0.32347096\n",
      " 0.37114965 0.40045418 0.18465268] [0.09766931 0.15900456 0.2121431  0.24536951 0.28191931 0.32303231\n",
      " 0.36542454 0.40259755 0.18465268] [0.17165206 0.25348048 0.31890538 0.37187374 0.39227345 0.41429889\n",
      " 0.44524805 0.47286002 0.18465268] [0.07220734 0.14675638 0.21151298 0.26918857 0.30861198 0.3416529\n",
      " 0.37487939 0.40206241 0.18465268]\n",
      "[0.00719213 0.27553127 0.47440917 0.50952337 0.55036673 0.56447513\n",
      " 0.57435668 0.57476192 0.61593287] [0.14629246 0.40642216 0.51655699 0.54165743 0.55734881 0.57325172\n",
      " 0.59628027 0.61642967 0.56639691] [0.16711378 0.40896887 0.51533409 0.53890694 0.55444067 0.57200788\n",
      " 0.59509076 0.61628227 0.56639691] [0.12487107 0.41119433 0.54857403 0.56141694 0.5652228  0.57684678\n",
      " 0.59405989 0.61598347 0.56639691] [0.14265715 0.39487149 0.51627054 0.54636408 0.56279829 0.58206259\n",
      " 0.60045019 0.6174116  0.56639691]\n"
     ]
    }
   ],
   "source": [
    "print(aopc_TransCAM,aopc_Rawatt,aopc_PartialLRP,aopc_Rollout,aopc_LRP)\n",
    "print(aopc_TransCAM_del,aopc_Rawatt_del,aopc_PartialLRP_del,aopc_Rollout_del,aopc_LRP_del)\n",
    "print(k_TransCAM,k_Rawatt,k_PartialLRP,k_Rollout,k_LRP)\n",
    "print(logodds_TransCAM, logodds_Rawatt, logodds_PartialLRP, logodds_Rollout, logodds_LRP)\n",
    "print(logodds_TransCAM_del, logodds_Rawatt_del, logodds_PartialLRP_del, logodds_Rollout_del, logodds_LRP_del)"
   ]
  },
  {
   "cell_type": "code",
   "execution_count": 68,
   "id": "11c21eea",
   "metadata": {},
   "outputs": [
    {
     "data": {
      "image/png": "[encoded data removed]",
      "text/plain": [
       "<Figure size 432x288 with 1 Axes>"
      ]
     },
     "metadata": {
      "needs_background": "light"
     },
     "output_type": "display_data"
    }
   ],
   "source": [
    "x = [10,20,30,40,50,60,70,80,90]\n",
    "#AOPC masked values\n",
    "plt.plot(x, aopc_TransCAM, label=\"TransCAM\")\n",
    "plt.plot(x, aopc_Rawatt, label =\"Rawatt\")\n",
    "plt.plot(x, aopc_LRP, label = \"LRP\")\n",
    "plt.plot(x, aopc_PartialLRP, label=\"PartialLRP\")\n",
    "plt.plot(x, aopc_Rollout, label=\"Rollout\")\n",
    "plt.xlabel(\"K\")\n",
    "plt.ylabel(\"AOPC-Score\")\n",
    "plt.legend()\n",
    "plt.savefig(\"AOPC.pdf\")"
   ]
  },
  {
   "cell_type": "code",
   "execution_count": 69,
   "id": "dd714253",
   "metadata": {},
   "outputs": [
    {
     "data": {
      "image/png": "[encoded data removed]",
      "text/plain": [
       "<Figure size 432x288 with 1 Axes>"
      ]
     },
     "metadata": {
      "needs_background": "light"
     },
     "output_type": "display_data"
    }
   ],
   "source": [
    "#AOPC delted values\n",
    "plt.plot(x, aopc_TransCAM_del, label=\"TransCAM\")\n",
    "plt.plot(x, aopc_Rawatt_del, label =\"Rawatt\")\n",
    "plt.plot(x, aopc_LRP_del, label = \"LRP\")\n",
    "plt.plot(x, aopc_PartialLRP_del, label=\"PartialLRP\")\n",
    "plt.plot(x, aopc_Rollout_del, label=\"Rollout\")\n",
    "plt.xlabel(\"K\")\n",
    "plt.ylabel(\"AOPC-Score\")\n",
    "plt.legend()\n",
    "plt.savefig(\"AOPC_del.pdf\")"
   ]
  },
  {
   "cell_type": "code",
   "execution_count": 72,
   "id": "a64237d2",
   "metadata": {},
   "outputs": [
    {
     "data": {
      "image/png": "[encoded data removed]",
      "text/plain": [
       "<Figure size 432x288 with 1 Axes>"
      ]
     },
     "metadata": {
      "needs_background": "light"
     },
     "output_type": "display_data"
    }
   ],
   "source": [
    "#Lodds masked values\n",
    "plt.plot(x, logodds_TransCAM, label=\"TransCAM\")\n",
    "plt.plot(x, logodds_Rawatt, label =\"Rawatt\")\n",
    "plt.plot(x, logodds_LRP, label = \"LRP\")\n",
    "plt.plot(x, logodds_PartialLRP, label=\"PartialLRP\")\n",
    "plt.plot(x, logodds_Rollout, label=\"Rollout\")\n",
    "plt.xlabel(\"K\")\n",
    "plt.ylabel(\"LogOdds-Score\")\n",
    "plt.legend()\n",
    "plt.savefig(\"logodds.pdf\")"
   ]
  },
  {
   "cell_type": "code",
   "execution_count": 71,
   "id": "b1cccdd2",
   "metadata": {},
   "outputs": [
    {
     "data": {
      "image/png": "[encoded data removed]",
      "text/plain": [
       "<Figure size 432x288 with 1 Axes>"
      ]
     },
     "metadata": {
      "needs_background": "light"
     },
     "output_type": "display_data"
    }
   ],
   "source": [
    "#Lodds del values\n",
    "plt.plot(x, logodds_TransCAM_del, label=\"TransCAM\")\n",
    "plt.plot(x, logodds_Rawatt_del, label =\"Rawatt\")\n",
    "plt.plot(x, logodds_LRP_del, label = \"LRP\")\n",
    "plt.plot(x, logodds_PartialLRP_del, label=\"PartialLRP\")\n",
    "plt.plot(x, logodds_Rollout_del, label=\"Rollout\")\n",
    "plt.xlabel(\"K\")\n",
    "plt.ylabel(\"LogOdds-Score\")\n",
    "plt.legend()\n",
    "plt.savefig(\"logodds_del.pdf\")"
   ]
  },
  {
   "cell_type": "markdown",
   "id": "6d29d56f",
   "metadata": {},
   "source": [
    "# Single Example Visualization"
   ]
  },
  {
   "cell_type": "code",
   "execution_count": null,
   "id": "603deb01",
   "metadata": {},
   "outputs": [],
   "source": []
  },
  {
   "cell_type": "code",
   "execution_count": 22,
   "id": "5aa56044",
   "metadata": {},
   "outputs": [],
   "source": [
    "def expln_norm(expln):\n",
    "    expln = (expln - expln.min()) / (expln.max()- expln.min())\n",
    "    return expln\n",
    "\n",
    "def show_text_attr(expln,str_list,is_relu = True):\n",
    "    if is_relu:\n",
    "        rgb = lambda x: '0,0,0' if x < 0 else '0,255,0'\n",
    "        alpha = lambda x: max(x, 0)* 10\n",
    "    else:\n",
    "        rgb = lambda x: '255,0,0' if x < 0 else '0,255,0'\n",
    "        alpha = lambda x: x * -5 if x < 0 else x * 5\n",
    "    attrs = list(expln)\n",
    "    subwords = str_list\n",
    "    \n",
    "    token_marks = [\n",
    "        f'<mark style=\"background-color:rgba({rgb(attr)},{alpha(attr)})\">{token}</mark>'\n",
    "        for token, attr in zip(subwords, attrs)\n",
    "    ]\n",
    "    \n",
    "    display(HTML('<p>' + ' '.join(token_marks) + '</p>'))"
   ]
  },
  {
   "cell_type": "code",
   "execution_count": 34,
   "id": "513e5333",
   "metadata": {},
   "outputs": [],
   "source": [
    "input_ids, attention_mask, text_words, label = preprocess_sample(tokenized_mnli,index=13)"
   ]
  },
  {
   "cell_type": "code",
   "execution_count": 35,
   "id": "8693c740",
   "metadata": {},
   "outputs": [],
   "source": [
    "# initialize the explanations generator\n",
    "explanations = Generator(model)"
   ]
  },
  {
   "cell_type": "code",
   "execution_count": 36,
   "id": "4c37cf47",
   "metadata": {},
   "outputs": [],
   "source": [
    "# TransCAM_expln, LRP_expln, PartialLRP_expln, FullLRP_expln, Att_expln, Rollout_expln, Att_Gradcam_expln = \\\n",
    "        # generate_explns(explanations, input_ids, attention_mask, start_layer=0, true_class = label, is_true = True) \n",
    "TransCAM_expln, LRP_expln, PartialLRP_expln, Att_expln, Rollout_expln = \\\n",
    "       generate_explns(explanations, input_ids, attention_mask, start_layer=0, true_class = label, is_true = True) "
   ]
  },
  {
   "cell_type": "code",
   "execution_count": 38,
   "id": "ab1f539a",
   "metadata": {
    "scrolled": true
   },
   "outputs": [
    {
     "data": {
      "text/html": [
       "<p><mark style=\"background-color:rgba(0,255,0,0.0)\">[CLS]</mark> <mark style=\"background-color:rgba(0,255,0,0.0468820184469223)\">you</mark> <mark style=\"background-color:rgba(255,0,0,0.09953304380178452)\">and</mark> <mark style=\"background-color:rgba(0,255,0,0.003207998815923929)\">your</mark> <mark style=\"background-color:rgba(0,255,0,0.11359000205993652)\">friends</mark> <mark style=\"background-color:rgba(255,0,0,0.021085500717163086)\">are</mark> <mark style=\"background-color:rgba(255,0,0,0.27380064129829407)\">not</mark> <mark style=\"background-color:rgba(0,255,0,0.33982786536216736)\">welcome</mark> <mark style=\"background-color:rgba(0,255,0,0.10419975966215134)\">here</mark> <mark style=\"background-color:rgba(255,0,0,0.14035068452358246)\">,</mark> <mark style=\"background-color:rgba(255,0,0,0.09087537229061127)\">said</mark> <mark style=\"background-color:rgba(255,0,0,0.22080770134925842)\">severn</mark> <mark style=\"background-color:rgba(0,255,0,0.6853544116020203)\">.</mark> <mark style=\"background-color:rgba(0,255,0,0.0)\">[SEP]</mark> <mark style=\"background-color:rgba(0,255,0,0.041720498353242874)\">severn</mark> <mark style=\"background-color:rgba(255,0,0,0.004985099658370018)\">said</mark> <mark style=\"background-color:rgba(0,255,0,0.004585662391036749)\">the</mark> <mark style=\"background-color:rgba(255,0,0,0.20457348227500916)\">people</mark> <mark style=\"background-color:rgba(0,255,0,0.14572805166244507)\">were</mark> <mark style=\"background-color:rgba(255,0,0,0.43065789341926575)\">not</mark> <mark style=\"background-color:rgba(0,255,0,0.3891936242580414)\">welcome</mark> <mark style=\"background-color:rgba(0,255,0,0.00025078828912228346)\">there</mark> <mark style=\"background-color:rgba(255,0,0,0.4097570478916168)\">.</mark> <mark style=\"background-color:rgba(0,255,0,0.0)\">[SEP]</mark></p>"
      ],
      "text/plain": [
       "<IPython.core.display.HTML object>"
      ]
     },
     "metadata": {},
     "output_type": "display_data"
    }
   ],
   "source": [
    "#TransCAM_expln = expln_norm(TransCAM_expln)\n",
    "show_text_attr(TransCAM_expln,text_words,is_relu = False)"
   ]
  },
  {
   "cell_type": "code",
   "execution_count": 75,
   "id": "46fbe675",
   "metadata": {},
   "outputs": [
    {
     "name": "stdout",
     "output_type": "stream",
     "text": [
      "None\n"
     ]
    }
   ],
   "source": []
  },
  {
   "cell_type": "code",
   "execution_count": 39,
   "id": "38658983",
   "metadata": {},
   "outputs": [
    {
     "data": {
      "text/html": [
       "<p><mark style=\"background-color:rgba(0,255,0,0.0)\">[CLS]</mark> <mark style=\"background-color:rgba(0,255,0,0.23058933019638062)\">you</mark> <mark style=\"background-color:rgba(0,255,0,0.2381700873374939)\">and</mark> <mark style=\"background-color:rgba(0,255,0,0.3045923709869385)\">your</mark> <mark style=\"background-color:rgba(0,255,0,0.36217010021209717)\">friends</mark> <mark style=\"background-color:rgba(0,255,0,0.28604716062545776)\">are</mark> <mark style=\"background-color:rgba(0,255,0,0.37323877215385437)\">not</mark> <mark style=\"background-color:rgba(0,255,0,0.23434683680534363)\">welcome</mark> <mark style=\"background-color:rgba(0,255,0,0.1936296820640564)\">here</mark> <mark style=\"background-color:rgba(0,255,0,0.08108212053775787)\">,</mark> <mark style=\"background-color:rgba(0,255,0,0.0991029292345047)\">said</mark> <mark style=\"background-color:rgba(0,255,0,0.1582164764404297)\">severn</mark> <mark style=\"background-color:rgba(0,255,0,0.3945159614086151)\">.</mark> <mark style=\"background-color:rgba(0,255,0,0.0)\">[SEP]</mark> <mark style=\"background-color:rgba(0,255,0,0.09152929484844208)\">severn</mark> <mark style=\"background-color:rgba(0,255,0,0.2077145129442215)\">said</mark> <mark style=\"background-color:rgba(0,255,0,0.3169253170490265)\">the</mark> <mark style=\"background-color:rgba(0,255,0,0.23712310194969177)\">people</mark> <mark style=\"background-color:rgba(0,255,0,0.2994172275066376)\">were</mark> <mark style=\"background-color:rgba(0,255,0,0.3246826231479645)\">not</mark> <mark style=\"background-color:rgba(0,255,0,0.16132846474647522)\">welcome</mark> <mark style=\"background-color:rgba(0,255,0,0.15394827723503113)\">there</mark> <mark style=\"background-color:rgba(0,255,0,0.25162962079048157)\">.</mark> <mark style=\"background-color:rgba(0,255,0,0.0)\">[SEP]</mark></p>"
      ],
      "text/plain": [
       "<IPython.core.display.HTML object>"
      ]
     },
     "metadata": {},
     "output_type": "display_data"
    }
   ],
   "source": [
    "#LRP_expln = expln_norm(LRP_expln)\n",
    "show_text_attr(LRP_expln,text_words,is_relu = False)"
   ]
  },
  {
   "cell_type": "code",
   "execution_count": 86,
   "id": "a439b02a",
   "metadata": {},
   "outputs": [
    {
     "ename": "NameError",
     "evalue": "name 'FullLRP_expln' is not defined",
     "output_type": "error",
     "traceback": [
      "\u001b[0;31m---------------------------------------------------------------------------\u001b[0m",
      "\u001b[0;31mNameError\u001b[0m                                 Traceback (most recent call last)",
      "Input \u001b[0;32mIn [86]\u001b[0m, in \u001b[0;36m<cell line: 2>\u001b[0;34m()\u001b[0m\n\u001b[1;32m      1\u001b[0m \u001b[38;5;66;03m#FullLRP_expln = expln_norm(FullLRP_expln)\u001b[39;00m\n\u001b[0;32m----> 2\u001b[0m show_text_attr(\u001b[43mFullLRP_expln\u001b[49m,text_words,is_relu \u001b[38;5;241m=\u001b[39m \u001b[38;5;28;01mFalse\u001b[39;00m)\n",
      "\u001b[0;31mNameError\u001b[0m: name 'FullLRP_expln' is not defined"
     ]
    }
   ],
   "source": [
    "#FullLRP_expln = expln_norm(FullLRP_expln)\n",
    "show_text_attr(FullLRP_expln,text_words,is_relu = False)"
   ]
  },
  {
   "cell_type": "code",
   "execution_count": 40,
   "id": "8ad9fe4b",
   "metadata": {},
   "outputs": [
    {
     "data": {
      "text/html": [
       "<p><mark style=\"background-color:rgba(0,255,0,0.0)\">[CLS]</mark> <mark style=\"background-color:rgba(0,255,0,2.961775779724121)\">you</mark> <mark style=\"background-color:rgba(0,255,0,3.1271278858184814)\">and</mark> <mark style=\"background-color:rgba(0,255,0,4.041153907775879)\">your</mark> <mark style=\"background-color:rgba(0,255,0,4.544245719909668)\">friends</mark> <mark style=\"background-color:rgba(0,255,0,3.8759002685546875)\">are</mark> <mark style=\"background-color:rgba(0,255,0,5.0)\">not</mark> <mark style=\"background-color:rgba(0,255,0,3.1050186157226562)\">welcome</mark> <mark style=\"background-color:rgba(0,255,0,2.4306528568267822)\">here</mark> <mark style=\"background-color:rgba(0,255,0,0.667578935623169)\">,</mark> <mark style=\"background-color:rgba(0,255,0,0.8626386523246765)\">said</mark> <mark style=\"background-color:rgba(0,255,0,1.1204502582550049)\">severn</mark> <mark style=\"background-color:rgba(0,255,0,3.5264265537261963)\">.</mark> <mark style=\"background-color:rgba(0,255,0,0.0)\">[SEP]</mark> <mark style=\"background-color:rgba(0,255,0,0.7270329594612122)\">severn</mark> <mark style=\"background-color:rgba(0,255,0,2.447462558746338)\">said</mark> <mark style=\"background-color:rgba(0,255,0,3.935497760772705)\">the</mark> <mark style=\"background-color:rgba(0,255,0,3.1916401386260986)\">people</mark> <mark style=\"background-color:rgba(0,255,0,4.024518966674805)\">were</mark> <mark style=\"background-color:rgba(0,255,0,4.360008716583252)\">not</mark> <mark style=\"background-color:rgba(0,255,0,2.1630821228027344)\">welcome</mark> <mark style=\"background-color:rgba(0,255,0,1.8753756284713745)\">there</mark> <mark style=\"background-color:rgba(0,255,0,2.749009370803833)\">.</mark> <mark style=\"background-color:rgba(0,255,0,0.0)\">[SEP]</mark></p>"
      ],
      "text/plain": [
       "<IPython.core.display.HTML object>"
      ]
     },
     "metadata": {},
     "output_type": "display_data"
    }
   ],
   "source": [
    "PartialLRP_expln = expln_norm(PartialLRP_expln)\n",
    "show_text_attr(PartialLRP_expln,text_words,is_relu = False)"
   ]
  },
  {
   "cell_type": "code",
   "execution_count": 41,
   "id": "1bb8055e",
   "metadata": {},
   "outputs": [
    {
     "data": {
      "text/html": [
       "<p><mark style=\"background-color:rgba(0,255,0,0.0)\">[CLS]</mark> <mark style=\"background-color:rgba(0,255,0,0.20164422690868378)\">you</mark> <mark style=\"background-color:rgba(0,255,0,0.21890121698379517)\">and</mark> <mark style=\"background-color:rgba(0,255,0,0.19048964977264404)\">your</mark> <mark style=\"background-color:rgba(0,255,0,0.2492472380399704)\">friends</mark> <mark style=\"background-color:rgba(0,255,0,0.22862204909324646)\">are</mark> <mark style=\"background-color:rgba(0,255,0,0.20587952435016632)\">not</mark> <mark style=\"background-color:rgba(0,255,0,0.276088684797287)\">welcome</mark> <mark style=\"background-color:rgba(0,255,0,0.2491435408592224)\">here</mark> <mark style=\"background-color:rgba(0,255,0,0.2923462390899658)\">,</mark> <mark style=\"background-color:rgba(0,255,0,0.3083673417568207)\">said</mark> <mark style=\"background-color:rgba(0,255,0,0.2324800342321396)\">severn</mark> <mark style=\"background-color:rgba(0,255,0,0.3713010251522064)\">.</mark> <mark style=\"background-color:rgba(0,255,0,0.0)\">[SEP]</mark> <mark style=\"background-color:rgba(0,255,0,0.20632421970367432)\">severn</mark> <mark style=\"background-color:rgba(0,255,0,0.2728576064109802)\">said</mark> <mark style=\"background-color:rgba(0,255,0,0.1883271336555481)\">the</mark> <mark style=\"background-color:rgba(0,255,0,0.1959867775440216)\">people</mark> <mark style=\"background-color:rgba(0,255,0,0.20281805098056793)\">were</mark> <mark style=\"background-color:rgba(0,255,0,0.181955024600029)\">not</mark> <mark style=\"background-color:rgba(0,255,0,0.23943482339382172)\">welcome</mark> <mark style=\"background-color:rgba(0,255,0,0.19285935163497925)\">there</mark> <mark style=\"background-color:rgba(0,255,0,0.29370641708374023)\">.</mark> <mark style=\"background-color:rgba(0,255,0,0.0)\">[SEP]</mark></p>"
      ],
      "text/plain": [
       "<IPython.core.display.HTML object>"
      ]
     },
     "metadata": {},
     "output_type": "display_data"
    }
   ],
   "source": [
    "#Att_expln = expln_norm(Att_expln)\n",
    "show_text_attr(Att_expln,text_words,is_relu = False)"
   ]
  },
  {
   "cell_type": "code",
   "execution_count": 42,
   "id": "9982ec23",
   "metadata": {},
   "outputs": [
    {
     "data": {
      "text/html": [
       "<p><mark style=\"background-color:rgba(0,255,0,0.0)\">[CLS]</mark> <mark style=\"background-color:rgba(0,255,0,2.3205347061157227)\">you</mark> <mark style=\"background-color:rgba(0,255,0,2.6373634338378906)\">and</mark> <mark style=\"background-color:rgba(0,255,0,2.2894461154937744)\">your</mark> <mark style=\"background-color:rgba(0,255,0,2.873426675796509)\">friends</mark> <mark style=\"background-color:rgba(0,255,0,2.5236189365386963)\">are</mark> <mark style=\"background-color:rgba(0,255,0,3.0973923206329346)\">not</mark> <mark style=\"background-color:rgba(0,255,0,2.5007519721984863)\">welcome</mark> <mark style=\"background-color:rgba(0,255,0,1.8261617422103882)\">here</mark> <mark style=\"background-color:rgba(0,255,0,1.1884262561798096)\">,</mark> <mark style=\"background-color:rgba(0,255,0,1.6144670248031616)\">said</mark> <mark style=\"background-color:rgba(0,255,0,1.318505883216858)\">severn</mark> <mark style=\"background-color:rgba(0,255,0,5.0)\">.</mark> <mark style=\"background-color:rgba(0,255,0,0.0)\">[SEP]</mark> <mark style=\"background-color:rgba(0,255,0,0.746228039264679)\">severn</mark> <mark style=\"background-color:rgba(0,255,0,1.8209354877471924)\">said</mark> <mark style=\"background-color:rgba(0,255,0,2.250791311264038)\">the</mark> <mark style=\"background-color:rgba(0,255,0,2.0980677604675293)\">people</mark> <mark style=\"background-color:rgba(0,255,0,2.158541440963745)\">were</mark> <mark style=\"background-color:rgba(0,255,0,2.52248477935791)\">not</mark> <mark style=\"background-color:rgba(0,255,0,2.0588788986206055)\">welcome</mark> <mark style=\"background-color:rgba(0,255,0,1.9880117177963257)\">there</mark> <mark style=\"background-color:rgba(0,255,0,1.0152788162231445)\">.</mark> <mark style=\"background-color:rgba(0,255,0,0.0)\">[SEP]</mark></p>"
      ],
      "text/plain": [
       "<IPython.core.display.HTML object>"
      ]
     },
     "metadata": {},
     "output_type": "display_data"
    }
   ],
   "source": [
    "Rollout_expln = expln_norm(Rollout_expln)\n",
    "show_text_attr(Rollout_expln,text_words,is_relu = False)"
   ]
  },
  {
   "cell_type": "code",
   "execution_count": 36,
   "id": "ccb2ead9",
   "metadata": {},
   "outputs": [
    {
     "ename": "NameError",
     "evalue": "name 'Att_Gradcam_expln' is not defined",
     "output_type": "error",
     "traceback": [
      "\u001b[0;31m---------------------------------------------------------------------------\u001b[0m",
      "\u001b[0;31mNameError\u001b[0m                                 Traceback (most recent call last)",
      "Input \u001b[0;32mIn [36]\u001b[0m, in \u001b[0;36m<cell line: 1>\u001b[0;34m()\u001b[0m\n\u001b[0;32m----> 1\u001b[0m Att_Gradcam_expln \u001b[38;5;241m=\u001b[39m expln_norm(\u001b[43mAtt_Gradcam_expln\u001b[49m)\n\u001b[1;32m      2\u001b[0m show_text_attr(Att_Gradcam_expln,text_words,is_relu \u001b[38;5;241m=\u001b[39m \u001b[38;5;28;01mFalse\u001b[39;00m)\n",
      "\u001b[0;31mNameError\u001b[0m: name 'Att_Gradcam_expln' is not defined"
     ]
    }
   ],
   "source": [
    "Att_Gradcam_expln = expln_norm(Att_Gradcam_expln)\n",
    "show_text_attr(Att_Gradcam_expln,text_words,is_relu = False)"
   ]
  }
 ],
 "metadata": {
  "kernelspec": {
   "display_name": "Python 3 (ipykernel)",
   "language": "python",
   "name": "python3"
  },
  "language_info": {
   "codemirror_mode": {
    "name": "ipython",
    "version": 3
   },
   "file_extension": ".py",
   "mimetype": "text/x-python",
   "name": "python",
   "nbconvert_exporter": "python",
   "pygments_lexer": "ipython3",
   "version": "3.9.12"
  }
 },
 "nbformat": 4,
 "nbformat_minor": 5
}
